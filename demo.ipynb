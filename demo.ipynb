 demo.ipynb
# Import our library and other necessities
import numpy as np
import matplotlib.pyplot as plt
from ha_models import TwoTankSystem
from simulator import simulate_system, generate_dataset

# 1. Simulate a single run with an anomaly
print("Simulating a single run with a valve stuck at t=25...")
t, states, modes = simulate_system(initial_state=[1.0, 1.0], t_end=50, dt=0.1, anomaly_time=25)
h1, h2 = states[:, 0], states[:, 1]

# Plot the results
plt.figure(figsize=(10, 6))
plt.plot(t, h1, label='Tank 1 Height (h1)')
plt.plot(t, h2, label='Tank 2 Height (h2)')
plt.axvline(x=25, color='r', linestyle='--', label='Valve Stuck Anomaly Injected')
plt.title("Two-Tank System Simulation with Anomaly")
plt.xlabel("Time")
plt.ylabel("Height")
plt.legend()
plt.grid(True)
plt.show()

# 2. Generate a dataset for ML training
print("\nGenerating a dataset for machine learning...")
X, y = generate_dataset(num_normal_samples=10, num_anomalous_samples=10)

print(f"Dataset shape: {X.shape}")
print(f"Labels shape: {y.shape}")
print(f"Number of anomalous data points: {np.sum(y == 1)}")

# 3. (Optional) Train a simple anomaly detector
from sklearn.ensemble import IsolationForest
from sklearn.metrics import classification_report

# Use only the state features (h1, h2) for training, exclude time
X_features = X[:, 1:3]

# Train an Isolation Forest
clf = IsolationForest(random_state=42, contamination=0.1) # contamination is the expected anomaly fraction
clf.fit(X_features)

# Predict anomalies
preds = clf.predict(X_features)
# Convert predictions from {-1,1} to {0,1} to match our labels
preds = np.where(preds == -1, 1, 0)

# Evaluate performance
print("\nIsolation Forest Performance on Generated Data:")
print(classification_report(y, preds, target_names=['Normal', 'Anomaly']))
